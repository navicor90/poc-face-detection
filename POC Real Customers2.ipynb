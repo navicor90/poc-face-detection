{
 "cells": [
  {
   "cell_type": "code",
   "execution_count": 1,
   "metadata": {},
   "outputs": [
    {
     "data": {
      "text/plain": [
       "['images/yaniz2.jpeg',\n",
       " 'images/benja.jpeg',\n",
       " 'images/yaniz4.jpeg',\n",
       " 'images/chanchus.jpeg',\n",
       " 'images/sharon_stone1.jpg']"
      ]
     },
     "execution_count": 1,
     "metadata": {},
     "output_type": "execute_result"
    }
   ],
   "source": [
    "from os import listdir\n",
    "\n",
    "mypath='images'\n",
    "files = [mypath+\"/\"+f for f in listdir(mypath)]\n",
    "files\n"
   ]
  },
  {
   "cell_type": "code",
   "execution_count": 2,
   "metadata": {},
   "outputs": [
    {
     "ename": "NameError",
     "evalue": "name 'os' is not defined",
     "output_type": "error",
     "traceback": [
      "\u001b[0;31m---------------------------------------------------------------------------\u001b[0m",
      "\u001b[0;31mNameError\u001b[0m                                 Traceback (most recent call last)",
      "\u001b[0;32m<ipython-input-2-15f5e96fdb7b>\u001b[0m in \u001b[0;36m<module>\u001b[0;34m\u001b[0m\n\u001b[0;32m----> 1\u001b[0;31m \u001b[0mos\u001b[0m\u001b[0;34m\u001b[0m\u001b[0;34m\u001b[0m\u001b[0m\n\u001b[0m",
      "\u001b[0;31mNameError\u001b[0m: name 'os' is not defined"
     ]
    }
   ],
   "source": []
  },
  {
   "cell_type": "code",
   "execution_count": 36,
   "metadata": {},
   "outputs": [],
   "source": [
    "import face_recognition\n",
    "\n",
    "face_locations = []\n",
    "encodings = []\n",
    "for f in files:\n",
    "    image = face_recognition.load_image_file(f)\n",
    "    face_locations.append(face_recognition.face_locations(image)) \n",
    "    encodings.append(face_recognition.face_encodings(image)[0])"
   ]
  },
  {
   "cell_type": "code",
   "execution_count": 3,
   "metadata": {},
   "outputs": [
    {
     "data": {
      "text/plain": [
       "array([-0.11768196,  0.17934707,  0.08787177, -0.10264593, -0.18059564,\n",
       "       -0.00136425, -0.05680577, -0.17311458,  0.10927707, -0.02366594,\n",
       "        0.03859571, -0.10404488, -0.24615651,  0.18668987, -0.12344155,\n",
       "        0.06899581, -0.17447367, -0.22657916, -0.00190609, -0.07208154,\n",
       "        0.02898651, -0.01560221,  0.02284627,  0.12890039, -0.12944181,\n",
       "       -0.21094164, -0.05017231, -0.03447293,  0.03349614, -0.08422838,\n",
       "        0.0383122 ,  0.06895261, -0.17774643,  0.06130472,  0.00517488,\n",
       "        0.08450375, -0.03793501, -0.18686081,  0.22226433,  0.02326614,\n",
       "       -0.20171833, -0.09880564,  0.05257401,  0.33038068,  0.27623519,\n",
       "       -0.01273169, -0.02600193, -0.06075005,  0.13922103, -0.34353587,\n",
       "        0.05481574,  0.20794053,  0.02415113,  0.05029131,  0.05205028,\n",
       "       -0.17993185,  0.08363844,  0.10524391, -0.12765391,  0.08035909,\n",
       "        0.05789089, -0.14187849,  0.09829269, -0.15856409,  0.28268889,\n",
       "        0.09659541, -0.05864359, -0.10873494,  0.23008409, -0.14945342,\n",
       "       -0.13628709,  0.07686834, -0.08481837, -0.12445545, -0.23162051,\n",
       "       -0.05401242,  0.41049537,  0.1926377 , -0.12434235,  0.10230066,\n",
       "       -0.13665885, -0.02939085, -0.00661427,  0.11550437, -0.07882743,\n",
       "       -0.0323265 , -0.12710086, -0.04004684,  0.339212  , -0.04529158,\n",
       "       -0.0683504 ,  0.25290042,  0.00182878, -0.07125486,  0.0555996 ,\n",
       "        0.02928242, -0.12696528,  0.02429775, -0.14005248, -0.07039331,\n",
       "       -0.03190717, -0.10348951, -0.0225662 ,  0.20700669, -0.32366225,\n",
       "        0.12481185, -0.01144489, -0.02714517, -0.03360755, -0.06969652,\n",
       "       -0.08425704, -0.01516823,  0.22799328, -0.3397592 ,  0.12734422,\n",
       "        0.17479476,  0.08992255,  0.12790783,  0.02132891,  0.04862348,\n",
       "        0.07119085, -0.03178357, -0.09327402, -0.07158575,  0.05265325,\n",
       "       -0.03459356, -0.05431221,  0.15838282])"
      ]
     },
     "execution_count": 3,
     "metadata": {},
     "output_type": "execute_result"
    }
   ],
   "source": [
    "len(encodings)\n",
    "encodings[4][0]"
   ]
  },
  {
   "cell_type": "code",
   "execution_count": 4,
   "metadata": {},
   "outputs": [
    {
     "data": {
      "text/plain": [
       "['images/yaniz2.jpeg',\n",
       " 'images/benja.jpeg',\n",
       " 'images/yaniz4.jpeg',\n",
       " 'images/chanchus.jpeg',\n",
       " 'images/sharon_stone1.jpg']"
      ]
     },
     "execution_count": 4,
     "metadata": {},
     "output_type": "execute_result"
    }
   ],
   "source": [
    "files"
   ]
  },
  {
   "cell_type": "code",
   "execution_count": 5,
   "metadata": {},
   "outputs": [],
   "source": [
    "from scipy.spatial.distance import cosine\n",
    "# determine if a candidate face is a match for a known face\n",
    "def is_match(known_embedding, candidate_embedding, thresh=0.5):\n",
    "    # calculate distance between embeddings\n",
    "    score = cosine(known_embedding, candidate_embedding)\n",
    "    if score <= thresh:\n",
    "        print('>face is a Match (%.3f <= %.3f)' % (score, thresh))\n",
    "    else:\n",
    "        print('>face is NOT a Match (%.3f > %.3f)' % (score, thresh))"
   ]
  },
  {
   "cell_type": "code",
   "execution_count": 6,
   "metadata": {},
   "outputs": [
    {
     "name": "stdout",
     "output_type": "stream",
     "text": [
      ">face is NOT a Match (0.179 > 0.100)\n"
     ]
    }
   ],
   "source": [
    "is_match(encodings[0],encodings[4], 0.1)"
   ]
  },
  {
   "cell_type": "code",
   "execution_count": null,
   "metadata": {},
   "outputs": [],
   "source": []
  },
  {
   "cell_type": "code",
   "execution_count": 9,
   "metadata": {},
   "outputs": [
    {
     "data": {
      "text/plain": [
       "[[(461, 546, 846, 161)],\n",
       " [(168, 397, 297, 268)],\n",
       " [(170, 384, 491, 63)],\n",
       " [(468, 319, 736, 52), (614, 428, 800, 242)],\n",
       " [(153, 382, 282, 253)]]"
      ]
     },
     "execution_count": 9,
     "metadata": {},
     "output_type": "execute_result"
    }
   ],
   "source": [
    "face_locations"
   ]
  },
  {
   "cell_type": "code",
   "execution_count": 10,
   "metadata": {},
   "outputs": [],
   "source": [
    "import cv2\n",
    "import sys\n",
    "\n",
    "cascPath = \"haarcascade_frontalface_default.xml\"\n",
    "faceCascade = cv2.CascadeClassifier(cascPath)\n",
    "\n",
    "video_capture = cv2.VideoCapture(0)\n",
    "\n",
    "while True:\n",
    "    # Capture frame-by-frame\n",
    "    ret, frame = video_capture.read()\n",
    "\n",
    "    # Display the resulting frame\n",
    "    cv2.imshow('Video', frame)\n",
    "    \n",
    "    gray = cv2.cvtColor(frame, cv2.COLOR_BGR2GRAY)\n",
    "\n",
    "    faces = faceCascade.detectMultiScale(\n",
    "        gray,\n",
    "        scaleFactor=1.1,\n",
    "        minNeighbors=5,\n",
    "        minSize=(30, 30),\n",
    "        flags=cv2.CASCADE_SCALE_IMAGE\n",
    "    )\n",
    "\n",
    "    # Draw a rectangle around the faces\n",
    "    for (x, y, w, h) in faces:\n",
    "        cv2.rectangle(frame, (x, y), (x+w, y+h), (0, 255, 0), 2)\n",
    "\n",
    "    # Display the resulting frame\n",
    "    cv2.imshow('Video', frame)\n",
    "\n",
    "    if cv2.waitKey(1) & 0xFF == ord('q'):\n",
    "        break\n",
    "\n",
    "# When everything is done, release the capture\n",
    "video_capture.release()\n",
    "cv2.destroyAllWindows()\n"
   ]
  },
  {
   "cell_type": "code",
   "execution_count": 41,
   "metadata": {},
   "outputs": [],
   "source": [
    "# When everything is done, release the capture\n",
    "video_capture.release()\n",
    "cv2.destroyAllWindows()\n"
   ]
  },
  {
   "cell_type": "code",
   "execution_count": null,
   "metadata": {},
   "outputs": [],
   "source": []
  },
  {
   "cell_type": "code",
   "execution_count": null,
   "metadata": {},
   "outputs": [],
   "source": []
  },
  {
   "cell_type": "code",
   "execution_count": null,
   "metadata": {},
   "outputs": [],
   "source": []
  },
  {
   "cell_type": "code",
   "execution_count": null,
   "metadata": {},
   "outputs": [],
   "source": []
  },
  {
   "cell_type": "code",
   "execution_count": 29,
   "metadata": {},
   "outputs": [
    {
     "data": {
      "text/plain": [
       "True"
      ]
     },
     "execution_count": 29,
     "metadata": {},
     "output_type": "execute_result"
    }
   ],
   "source": [
    "matchs = [True, False]\n",
    "match = False\n",
    "for m in matchs:\n",
    "    match = match or m"
   ]
  },
  {
   "cell_type": "code",
   "execution_count": 43,
   "metadata": {},
   "outputs": [
    {
     "name": "stdout",
     "output_type": "stream",
     "text": [
      "5\n",
      "not match\n",
      "5\n",
      "not match\n",
      "5\n",
      "not match\n",
      "5\n",
      "not match\n",
      "5\n",
      "not match\n",
      "5\n",
      "not match\n",
      "5\n",
      "not match\n",
      "5\n",
      "not match\n",
      "5\n",
      "not match\n",
      "5\n",
      "not match\n",
      "5\n",
      "not match\n",
      "5\n",
      "not match\n"
     ]
    }
   ],
   "source": [
    "import cv2\n",
    "import sys\n",
    "import time\n",
    "\n",
    "def match_encodings_result(encoding, encodings_result):\n",
    "    matchs = face_recognition.compare_faces(encodings_result, encoding)\n",
    "    match = False\n",
    "    for m in matchs:\n",
    "        match = match or m\n",
    "    if match:\n",
    "        print(\"match\")\n",
    "    else:\n",
    "        print(\"not match\")\n",
    "    return match\n",
    "\n",
    "def debug_faces(frame,face_locations):\n",
    "    # Draw a rectangle around the faces\n",
    "    for (top, right, bottom, left) in face_locations:\n",
    "        cv2.rectangle(frame, (left, top), (right, bottom), (0, 0, 255), 2)\n",
    "\n",
    "    # Display the resulting frame\n",
    "    cv2.imshow('Video', frame)\n",
    "\n",
    "video_capture = cv2.VideoCapture(0)\n",
    "frames_step=5\n",
    "i = 0\n",
    "while True:\n",
    "    i+=1\n",
    "    # Capture frame-by-frame\n",
    "    ret, frame = video_capture.read()\n",
    "    rgb_frame = cv2.cvtColor(frame, cv2.COLOR_BGR2RGB)\n",
    "    \n",
    "    if cv2.waitKey(1) & 0xFF == ord('q'):\n",
    "        break\n",
    "    \n",
    "    if i < frames_step:\n",
    "        continue\n",
    "\n",
    "    #image = face_recognition.load_image_file(f)\n",
    "    face_locations = face_recognition.face_locations(rgb_frame)\n",
    "    face_encodings = face_recognition.face_encodings(rgb_frame, face_locations)\n",
    "    if len(face_locations) >= 1:\n",
    "        i=0\n",
    "        debug_faces(frame, face_locations)\n",
    "        match_encodings_result(encodings[0], face_encodings)\n",
    "\n",
    "# When everything is done, release the capture\n",
    "video_capture.release()\n",
    "cv2.destroyAllWindows()\n"
   ]
  },
  {
   "cell_type": "code",
   "execution_count": 35,
   "metadata": {},
   "outputs": [
    {
     "data": {
      "text/plain": [
       "[array([-9.76811945e-02,  1.74812973e-01,  1.02369070e-01,  2.08707992e-04,\n",
       "        -7.83480704e-02,  6.84417132e-03, -2.00857446e-02, -1.34481564e-01,\n",
       "         2.08952188e-01, -8.02747011e-02,  2.17586368e-01,  1.16708046e-02,\n",
       "        -1.69144034e-01, -8.83351043e-02, -4.19592783e-02,  9.72599015e-02,\n",
       "        -1.72046944e-01, -1.11833990e-01, -1.45119607e-01, -6.54064342e-02,\n",
       "         3.47497836e-02,  5.02029508e-02, -8.29074066e-04,  5.65394871e-02,\n",
       "        -1.39661193e-01, -3.23634624e-01, -7.25302026e-02, -1.28740489e-01,\n",
       "         1.87397256e-01, -8.52669626e-02, -6.06564507e-02, -2.72050127e-02,\n",
       "        -1.66248649e-01, -1.11478977e-01,  9.64252092e-03,  6.80743158e-02,\n",
       "        -9.27215889e-02, -1.10771008e-01,  1.78723857e-01, -5.75669408e-02,\n",
       "        -2.04865813e-01,  1.04643442e-01,  4.39377241e-02,  2.28402868e-01,\n",
       "         2.11718231e-01,  4.62215915e-02,  9.46350023e-03, -1.56678274e-01,\n",
       "         2.23851398e-01, -2.27939129e-01,  1.48010179e-01,  1.90592319e-01,\n",
       "         9.10709724e-02,  1.60480022e-01,  1.08893268e-01, -1.70298055e-01,\n",
       "        -8.11473466e-03,  1.67379007e-01, -1.98527157e-01,  8.00825059e-02,\n",
       "         2.69788206e-02, -4.92675230e-02,  1.50883142e-02, -2.27365457e-02,\n",
       "         9.96823683e-02,  1.42699584e-01, -5.51154017e-02, -1.12725623e-01,\n",
       "         1.76081643e-01, -1.70626774e-01, -2.05310974e-02,  7.84136355e-02,\n",
       "        -6.60864264e-02, -1.65388763e-01, -2.00081065e-01,  8.10325667e-02,\n",
       "         4.40799564e-01,  2.14114368e-01, -1.87214017e-01,  2.00405307e-02,\n",
       "        -1.14814602e-01, -6.24867827e-02,  6.35918528e-02,  6.13840222e-02,\n",
       "        -8.40645507e-02, -6.41893148e-02, -6.60377890e-02,  2.42017712e-02,\n",
       "         2.18087390e-01,  1.58385448e-02,  7.82318600e-03,  2.73621231e-01,\n",
       "         5.74404225e-02, -1.45642832e-02,  5.63582778e-02,  3.46943587e-02,\n",
       "        -1.90944225e-01, -2.47988999e-02, -1.44063443e-01, -1.18381232e-01,\n",
       "         9.40827429e-02, -3.09135355e-02,  3.50484159e-04,  4.56737354e-02,\n",
       "        -2.06432521e-01,  2.51408786e-01,  6.80782422e-02,  1.52500235e-02,\n",
       "         6.79994747e-02, -4.24207486e-02, -3.83449718e-02,  3.05228140e-02,\n",
       "         2.04234511e-01, -1.83346957e-01,  3.29354644e-01,  8.74158293e-02,\n",
       "         7.67131299e-02,  2.05207273e-01,  1.03030719e-01,  4.76388596e-02,\n",
       "         1.73207186e-02, -1.16391815e-01, -8.66480768e-02, -1.05638959e-01,\n",
       "         9.85915810e-02, -4.22771908e-02,  8.79957825e-02,  2.38197055e-02])]"
      ]
     },
     "execution_count": 35,
     "metadata": {},
     "output_type": "execute_result"
    }
   ],
   "source": [
    "face_encodings"
   ]
  },
  {
   "cell_type": "code",
   "execution_count": null,
   "metadata": {},
   "outputs": [],
   "source": []
  }
 ],
 "metadata": {
  "kernelspec": {
   "display_name": "Python 3",
   "language": "python",
   "name": "python3"
  },
  "language_info": {
   "codemirror_mode": {
    "name": "ipython",
    "version": 3
   },
   "file_extension": ".py",
   "mimetype": "text/x-python",
   "name": "python",
   "nbconvert_exporter": "python",
   "pygments_lexer": "ipython3",
   "version": "3.6.9"
  }
 },
 "nbformat": 4,
 "nbformat_minor": 4
}
