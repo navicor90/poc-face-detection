{
 "cells": [
  {
   "cell_type": "code",
   "execution_count": 43,
   "metadata": {},
   "outputs": [
    {
     "data": {
      "text/plain": [
       "['images/yaniz2.jpeg',\n",
       " 'images/benja.jpeg',\n",
       " 'images/yaniz4.jpeg',\n",
       " 'images/chanchus.jpeg',\n",
       " 'images/sharon_stone1.jpg']"
      ]
     },
     "execution_count": 43,
     "metadata": {},
     "output_type": "execute_result"
    }
   ],
   "source": [
    "from os import listdir\n",
    "\n",
    "mypath='images'\n",
    "files = [mypath+\"/\"+f for f in listdir(mypath)]\n",
    "files\n"
   ]
  },
  {
   "cell_type": "code",
   "execution_count": 70,
   "metadata": {},
   "outputs": [],
   "source": [
    "import face_recognition\n",
    "\n",
    "face_locations = []\n",
    "encodings = []\n",
    "for f in files:\n",
    "    image = face_recognition.load_image_file(f)\n",
    "    face_locations.append(face_recognition.face_locations(image)) \n",
    "    encodings.append(face_recognition.face_encodings(image))"
   ]
  },
  {
   "cell_type": "code",
   "execution_count": 71,
   "metadata": {},
   "outputs": [
    {
     "data": {
      "text/plain": [
       "array([-0.11768196,  0.17934707,  0.08787177, -0.10264593, -0.18059564,\n",
       "       -0.00136425, -0.05680577, -0.17311458,  0.10927707, -0.02366594,\n",
       "        0.03859571, -0.10404488, -0.24615651,  0.18668987, -0.12344155,\n",
       "        0.06899581, -0.17447367, -0.22657916, -0.00190609, -0.07208154,\n",
       "        0.02898651, -0.01560221,  0.02284627,  0.12890039, -0.12944181,\n",
       "       -0.21094164, -0.05017231, -0.03447293,  0.03349614, -0.08422838,\n",
       "        0.0383122 ,  0.06895261, -0.17774643,  0.06130472,  0.00517488,\n",
       "        0.08450375, -0.03793501, -0.18686081,  0.22226433,  0.02326614,\n",
       "       -0.20171833, -0.09880564,  0.05257401,  0.33038068,  0.27623519,\n",
       "       -0.01273169, -0.02600193, -0.06075005,  0.13922103, -0.34353587,\n",
       "        0.05481574,  0.20794053,  0.02415113,  0.05029131,  0.05205028,\n",
       "       -0.17993185,  0.08363844,  0.10524391, -0.12765391,  0.08035909,\n",
       "        0.05789089, -0.14187849,  0.09829269, -0.15856409,  0.28268889,\n",
       "        0.09659541, -0.05864359, -0.10873494,  0.23008409, -0.14945342,\n",
       "       -0.13628709,  0.07686834, -0.08481837, -0.12445545, -0.23162051,\n",
       "       -0.05401242,  0.41049537,  0.1926377 , -0.12434235,  0.10230066,\n",
       "       -0.13665885, -0.02939085, -0.00661427,  0.11550437, -0.07882743,\n",
       "       -0.0323265 , -0.12710086, -0.04004684,  0.339212  , -0.04529158,\n",
       "       -0.0683504 ,  0.25290042,  0.00182878, -0.07125486,  0.0555996 ,\n",
       "        0.02928242, -0.12696528,  0.02429775, -0.14005248, -0.07039331,\n",
       "       -0.03190717, -0.10348951, -0.0225662 ,  0.20700669, -0.32366225,\n",
       "        0.12481185, -0.01144489, -0.02714517, -0.03360755, -0.06969652,\n",
       "       -0.08425704, -0.01516823,  0.22799328, -0.3397592 ,  0.12734422,\n",
       "        0.17479476,  0.08992255,  0.12790783,  0.02132891,  0.04862348,\n",
       "        0.07119085, -0.03178357, -0.09327402, -0.07158575,  0.05265325,\n",
       "       -0.03459356, -0.05431221,  0.15838282])"
      ]
     },
     "execution_count": 71,
     "metadata": {},
     "output_type": "execute_result"
    }
   ],
   "source": [
    "len(encodings)\n",
    "encodings[4][0]"
   ]
  },
  {
   "cell_type": "code",
   "execution_count": 48,
   "metadata": {},
   "outputs": [
    {
     "data": {
      "text/plain": [
       "['images/yaniz2.jpeg',\n",
       " 'images/benja.jpeg',\n",
       " 'images/yaniz4.jpeg',\n",
       " 'images/chanchus.jpeg',\n",
       " 'images/sharon_stone1.jpg']"
      ]
     },
     "execution_count": 48,
     "metadata": {},
     "output_type": "execute_result"
    }
   ],
   "source": [
    "files"
   ]
  },
  {
   "cell_type": "code",
   "execution_count": 46,
   "metadata": {},
   "outputs": [],
   "source": [
    "from scipy.spatial.distance import cosine\n",
    "# determine if a candidate face is a match for a known face\n",
    "def is_match(known_embedding, candidate_embedding, thresh=0.5):\n",
    "    # calculate distance between embeddings\n",
    "    score = cosine(known_embedding, candidate_embedding)\n",
    "    if score <= thresh:\n",
    "        print('>face is a Match (%.3f <= %.3f)' % (score, thresh))\n",
    "    else:\n",
    "        print('>face is NOT a Match (%.3f > %.3f)' % (score, thresh))"
   ]
  },
  {
   "cell_type": "code",
   "execution_count": 54,
   "metadata": {},
   "outputs": [
    {
     "name": "stdout",
     "output_type": "stream",
     "text": [
      ">face is NOT a Match (0.179 > 0.100)\n"
     ]
    }
   ],
   "source": [
    "is_match(encodings[0],encodings[4], 0.1)"
   ]
  },
  {
   "cell_type": "code",
   "execution_count": null,
   "metadata": {},
   "outputs": [],
   "source": [
    "\n",
    "# define filenames\n",
    "filenames = [mypath+'/'+f for f in onlyfiles]\n",
    "# get embeddings file filenames\n",
    "embeddings = get_embeddings(filenames)\n",
    "emb_map = {}\n",
    "for i,f in enumerate(filenames):\n",
    "    emb_map[f]=embeddings[i]\n",
    "emb_map"
   ]
  },
  {
   "cell_type": "code",
   "execution_count": 72,
   "metadata": {},
   "outputs": [
    {
     "data": {
      "text/plain": [
       "[[(461, 546, 846, 161)],\n",
       " [(168, 397, 297, 268)],\n",
       " [(170, 384, 491, 63)],\n",
       " [(468, 319, 736, 52), (614, 428, 800, 242)],\n",
       " [(153, 382, 282, 253)]]"
      ]
     },
     "execution_count": 72,
     "metadata": {},
     "output_type": "execute_result"
    }
   ],
   "source": [
    "face_locations"
   ]
  },
  {
   "cell_type": "code",
   "execution_count": 76,
   "metadata": {},
   "outputs": [],
   "source": [
    "import cv2\n",
    "import sys\n",
    "\n",
    "cascPath = \"haarcascade_frontalface_default.xml\"\n",
    "faceCascade = cv2.CascadeClassifier(cascPath)\n",
    "\n",
    "video_capture = cv2.VideoCapture(0)\n",
    "\n",
    "while True:\n",
    "    # Capture frame-by-frame\n",
    "    ret, frame = video_capture.read()\n",
    "\n",
    "    # Display the resulting frame\n",
    "    cv2.imshow('Video', frame)\n",
    "    \n",
    "    gray = cv2.cvtColor(frame, cv2.COLOR_BGR2GRAY)\n",
    "\n",
    "    faces = faceCascade.detectMultiScale(\n",
    "        gray,\n",
    "        scaleFactor=1.1,\n",
    "        minNeighbors=5,\n",
    "        minSize=(30, 30),\n",
    "        flags=cv2.CASCADE_SCALE_IMAGE\n",
    "    )\n",
    "\n",
    "    # Draw a rectangle around the faces\n",
    "    for (x, y, w, h) in faces:\n",
    "        cv2.rectangle(frame, (x, y), (x+w, y+h), (0, 255, 0), 2)\n",
    "\n",
    "    # Display the resulting frame\n",
    "    cv2.imshow('Video', frame)\n",
    "\n",
    "    if cv2.waitKey(1) & 0xFF == ord('q'):\n",
    "        break\n",
    "\n",
    "# When everything is done, release the capture\n",
    "video_capture.release()\n",
    "cv2.destroyAllWindows()\n"
   ]
  },
  {
   "cell_type": "code",
   "execution_count": 87,
   "metadata": {},
   "outputs": [],
   "source": [
    "# When everything is done, release the capture\n",
    "video_capture.release()\n",
    "cv2.destroyAllWindows()\n"
   ]
  },
  {
   "cell_type": "code",
   "execution_count": null,
   "metadata": {},
   "outputs": [],
   "source": []
  },
  {
   "cell_type": "code",
   "execution_count": null,
   "metadata": {},
   "outputs": [],
   "source": []
  },
  {
   "cell_type": "code",
   "execution_count": null,
   "metadata": {},
   "outputs": [],
   "source": []
  },
  {
   "cell_type": "code",
   "execution_count": null,
   "metadata": {},
   "outputs": [],
   "source": []
  },
  {
   "cell_type": "code",
   "execution_count": null,
   "metadata": {},
   "outputs": [],
   "source": []
  },
  {
   "cell_type": "code",
   "execution_count": 90,
   "metadata": {},
   "outputs": [
    {
     "name": "stdout",
     "output_type": "stream",
     "text": [
      ">face is NOT a Match (0.116 > 0.100)\n",
      ">face is NOT a Match (0.120 > 0.100)\n",
      ">face is NOT a Match (0.118 > 0.100)\n",
      ">face is NOT a Match (0.119 > 0.100)\n",
      ">face is NOT a Match (0.117 > 0.100)\n",
      ">face is NOT a Match (0.111 > 0.100)\n",
      ">face is NOT a Match (0.105 > 0.100)\n",
      ">face is NOT a Match (0.138 > 0.100)\n",
      ">face is NOT a Match (0.153 > 0.100)\n",
      ">face is NOT a Match (0.163 > 0.100)\n",
      ">face is NOT a Match (0.162 > 0.100)\n",
      ">face is NOT a Match (0.157 > 0.100)\n",
      ">face is NOT a Match (0.172 > 0.100)\n",
      ">face is NOT a Match (0.163 > 0.100)\n",
      ">face is NOT a Match (0.171 > 0.100)\n",
      ">face is a Match (0.060 <= 0.100)\n",
      ">face is a Match (0.043 <= 0.100)\n",
      ">face is a Match (0.046 <= 0.100)\n",
      ">face is a Match (0.041 <= 0.100)\n",
      ">face is a Match (0.029 <= 0.100)\n",
      ">face is a Match (0.040 <= 0.100)\n",
      ">face is a Match (0.034 <= 0.100)\n",
      ">face is a Match (0.041 <= 0.100)\n",
      ">face is a Match (0.039 <= 0.100)\n",
      ">face is a Match (0.035 <= 0.100)\n",
      ">face is a Match (0.039 <= 0.100)\n",
      ">face is a Match (0.037 <= 0.100)\n",
      ">face is a Match (0.036 <= 0.100)\n",
      ">face is a Match (0.034 <= 0.100)\n",
      ">face is a Match (0.036 <= 0.100)\n",
      ">face is a Match (0.039 <= 0.100)\n",
      ">face is NOT a Match (0.160 > 0.100)\n"
     ]
    }
   ],
   "source": [
    "import cv2\n",
    "import sys\n",
    "\n",
    "cascPath = \"haarcascade_frontalface_default.xml\"\n",
    "faceCascade = cv2.CascadeClassifier(cascPath)\n",
    "\n",
    "video_capture = cv2.VideoCapture(0)\n",
    "\n",
    "while True:\n",
    "    # Capture frame-by-frame\n",
    "    ret, frame = video_capture.read()\n",
    "    rgb_frame = cv2.cvtColor(frame, cv2.COLOR_BGR2RGB)\n",
    "    \n",
    "    #image = face_recognition.load_image_file(f)\n",
    "    face_locations = face_recognition.face_locations(rgb_frame)\n",
    "    encoding = face_recognition.face_encodings(rgb_frame, face_locations)\n",
    "    \n",
    "    # Draw a rectangle around the faces\n",
    "    for (top, right, bottom, left) in face_locations:\n",
    "        cv2.rectangle(frame, (left, top), (right, bottom), (0, 0, 255), 2)\n",
    "\n",
    "    # Display the resulting frame\n",
    "    cv2.imshow('Video', frame)\n",
    "    \n",
    "    for e in encoding:\n",
    "        is_match(encodings[0],e, 0.1)\n",
    "        # matches = face_recognition.compare_faces(known_face_encodings, face_encoding)\n",
    "\n",
    "\n",
    "    if cv2.waitKey(1) & 0xFF == ord('q'):\n",
    "        break\n",
    "\n",
    "# When everything is done, release the capture\n",
    "video_capture.release()\n",
    "cv2.destroyAllWindows()\n"
   ]
  },
  {
   "cell_type": "code",
   "execution_count": 84,
   "metadata": {},
   "outputs": [
    {
     "data": {
      "text/plain": [
       "[array([-0.10079592,  0.12795028,  0.15482481, -0.05677741, -0.12357607,\n",
       "         0.0452776 , -0.03945062, -0.06689736,  0.12007086, -0.06483159,\n",
       "         0.25421506, -0.00943609, -0.23254214,  0.07935992, -0.01634233,\n",
       "         0.20626689, -0.14561193, -0.08502217, -0.09730236,  0.00508236,\n",
       "         0.00290786,  0.06508994,  0.06852963,  0.03181437, -0.14170118,\n",
       "        -0.38299093, -0.0473433 , -0.09638228, -0.00501355, -0.05756903,\n",
       "        -0.02628298, -0.02350852, -0.18874067,  0.04103372,  0.04278243,\n",
       "         0.04945044, -0.12472865, -0.10115109,  0.1646501 ,  0.01186739,\n",
       "        -0.2278396 , -0.0444615 ,  0.07779858,  0.17028137,  0.19277735,\n",
       "         0.0129666 ,  0.08019341, -0.1188364 ,  0.03685571, -0.30312002,\n",
       "         0.01278362,  0.0974536 , -0.02972836,  0.11997738,  0.04016741,\n",
       "        -0.11225313,  0.02525452,  0.10930162, -0.13558158,  0.04054497,\n",
       "         0.08260448, -0.05227888, -0.03798658, -0.05660667,  0.23027165,\n",
       "         0.10190772, -0.16065401, -0.09000419,  0.0690209 , -0.16004278,\n",
       "        -0.02413674,  0.07285248, -0.06988394, -0.20212072, -0.2204114 ,\n",
       "        -0.0102177 ,  0.47458503,  0.10599048, -0.19040075, -0.04520765,\n",
       "        -0.10345969, -0.03679142,  0.06652997,  0.1028315 , -0.00494494,\n",
       "        -0.04916309, -0.08340646,  0.02367472,  0.25453141, -0.09005889,\n",
       "         0.0898517 ,  0.2531645 ,  0.00288303,  0.00406638,  0.00684947,\n",
       "         0.14938864, -0.13839303, -0.01726902, -0.06893821, -0.02978398,\n",
       "        -0.06156149, -0.06091724, -0.02327129,  0.07559996, -0.21013476,\n",
       "         0.19200087, -0.0096379 , -0.04380342,  0.08451071,  0.02224383,\n",
       "        -0.04201194, -0.12477652,  0.13631666, -0.21650517,  0.12394278,\n",
       "         0.20143667, -0.0555432 ,  0.14776671,  0.03280893,  0.15596314,\n",
       "        -0.05759034,  0.01356136, -0.13969107, -0.05655284,  0.00973731,\n",
       "        -0.02795681, -0.0252723 , -0.03549388]),\n",
       " array([-8.57657790e-02,  1.32431701e-01, -1.26913423e-03, -6.81213364e-02,\n",
       "        -9.31719244e-02, -4.69511524e-02, -6.34500012e-02, -1.01487763e-01,\n",
       "         1.36008099e-01, -1.66093931e-04,  2.54427701e-01,  4.12798002e-02,\n",
       "        -1.59586519e-01, -1.23342291e-01, -1.84783600e-02,  6.44507185e-02,\n",
       "        -1.42839953e-01, -5.52912541e-02, -6.64802194e-02, -1.11556552e-01,\n",
       "         3.60450074e-02, -5.85159147e-03,  3.15437689e-02,  1.22353844e-01,\n",
       "        -1.27091363e-01, -2.22945035e-01, -1.00886598e-01, -6.75742477e-02,\n",
       "         1.50776163e-01, -8.41742754e-02, -6.49515539e-02,  1.29537797e-02,\n",
       "        -2.06217617e-01, -1.01271741e-01,  4.05298322e-02,  1.00254804e-01,\n",
       "        -8.16079900e-02, -7.12573975e-02,  1.98363379e-01, -9.37077031e-03,\n",
       "        -1.37617514e-01,  1.17920883e-01,  5.96664846e-02,  2.61983335e-01,\n",
       "         2.38517404e-01,  3.85929123e-02, -1.53639466e-02, -7.54050836e-02,\n",
       "         1.70780301e-01, -2.08424807e-01,  1.42220125e-01,  2.12704733e-01,\n",
       "         1.45816281e-01,  4.66415621e-02,  5.36656417e-02, -2.02714086e-01,\n",
       "         1.21853817e-02,  1.90994427e-01, -2.14988559e-01,  2.94614770e-02,\n",
       "         2.00718269e-02, -6.09972104e-02, -3.98812816e-02, -6.53496608e-02,\n",
       "         1.15506835e-01,  1.86926663e-01, -9.31345746e-02, -1.36218667e-01,\n",
       "         1.68156028e-01, -1.28250107e-01,  1.28576104e-02,  1.16549596e-01,\n",
       "        -1.24999911e-01, -1.97211742e-01, -2.27841884e-01,  1.41216174e-01,\n",
       "         4.00133640e-01,  2.22029939e-01, -1.39141530e-01,  4.69034687e-02,\n",
       "        -8.21550041e-02, -9.51907970e-03,  5.17985895e-02, -8.38192366e-03,\n",
       "        -1.38702214e-01, -8.10393766e-02, -8.79189149e-02,  6.76843151e-02,\n",
       "         1.22519359e-01,  2.49693058e-02, -1.76511575e-02,  2.18511492e-01,\n",
       "         4.69429046e-02,  5.96533716e-02,  3.55638228e-02,  3.29665355e-02,\n",
       "        -1.22973084e-01,  1.48414485e-02, -1.42571166e-01, -1.01166591e-03,\n",
       "         3.86523679e-02, -1.20502666e-01,  4.62544188e-02,  7.98530206e-02,\n",
       "        -2.10255712e-01,  1.33984804e-01,  7.36614391e-02, -2.15327740e-02,\n",
       "        -1.52915316e-02, -5.39166853e-04, -8.35694745e-02,  1.65996905e-02,\n",
       "         1.34060845e-01, -2.91113496e-01,  3.17652524e-01,  1.34104937e-01,\n",
       "         8.02480057e-02,  1.75437629e-01,  1.30587578e-01,  4.39563617e-02,\n",
       "         3.59902158e-02, -1.31023824e-01, -8.12839344e-02, -5.53463176e-02,\n",
       "         6.05035499e-02, -7.24036694e-02,  1.01358697e-01,  3.71518359e-02])]"
      ]
     },
     "execution_count": 84,
     "metadata": {},
     "output_type": "execute_result"
    }
   ],
   "source": [
    "encoding"
   ]
  },
  {
   "cell_type": "code",
   "execution_count": null,
   "metadata": {},
   "outputs": [],
   "source": []
  }
 ],
 "metadata": {
  "kernelspec": {
   "display_name": "Python 3",
   "language": "python",
   "name": "python3"
  },
  "language_info": {
   "codemirror_mode": {
    "name": "ipython",
    "version": 3
   },
   "file_extension": ".py",
   "mimetype": "text/x-python",
   "name": "python",
   "nbconvert_exporter": "python",
   "pygments_lexer": "ipython3",
   "version": "3.6.9"
  }
 },
 "nbformat": 4,
 "nbformat_minor": 4
}
